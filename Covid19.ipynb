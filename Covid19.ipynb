{
 "cells": [
  {
   "cell_type": "code",
   "execution_count": 1,
   "metadata": {},
   "outputs": [],
   "source": [
    "import requests \n",
    "from bs4 import BeautifulSoup \n",
    "from tabulate import tabulate \n",
    "import os \n",
    "import numpy as np \n",
    "import matplotlib.pyplot as plt "
   ]
  },
  {
   "cell_type": "code",
   "execution_count": 2,
   "metadata": {},
   "outputs": [],
   "source": [
    "extract_contents = lambda row: [x.text.replace('\\n', '') for x in row] \n",
    "URL = 'https://www.mohfw.gov.in/'\n",
    "\n",
    "SHORT_HEADERS = ['SNo', 'State', \n",
    "                'Confirmed','Cured','Death'] \n",
    "\n",
    "response = requests.get(URL).content \n",
    "soup = BeautifulSoup(response, 'html.parser') \n",
    "header = extract_contents(soup.tr.find_all('th')) \n",
    "\n",
    "stats = [] \n",
    "all_rows = soup.find_all('tr') \n",
    "\n",
    "for row in all_rows: \n",
    "    stat = extract_contents(row.find_all('td')) \n",
    "    if stat: \n",
    "        if len(stat) == 5: \n",
    "            # last row \n",
    "            stat = ['', *stat] \n",
    "            stats.append(stat) \n",
    "            elif len(stat) == 6: \n",
    "        stats.append(stat) \n",
    "\n",
    "stats[-1][1] = \"Total Cases\"\n",
    "\n",
    "stats.remove(stats[-1]) \n",
    "\n",
    "\n",
    "\n",
    "\n"
   ]
  },
  {
   "cell_type": "code",
   "execution_count": 3,
   "metadata": {},
   "outputs": [
    {
     "name": "stdout",
     "output_type": "stream",
     "text": [
      "      SNo  State                          Confirmed    Cured    Death\n",
      "--  -----  ---------------------------  -----------  -------  -------\n",
      "        1  Andaman and Nicobar Islands           33       33        0\n",
      "        2  Andhra Pradesh                      2307     1252       48\n",
      "        3  Arunachal Pradesh                      1        1        0\n",
      "        4  Assam                                 90       41        2\n",
      "        5  Bihar                               1018      438        7\n",
      "        6  Chandigarh                           191       37        3\n",
      "        7  Chhattisgarh                          66       56        0\n",
      "        8  Dadar Nagar Haveli                     1        0        0\n",
      "        9  Delhi                               8895     3518      123\n",
      "       10  Goa                                   15        7        0\n",
      "       11  Gujarat                             9931     4035      606\n",
      "       12  Haryana                              818      439       11\n",
      "       13  Himachal Pradesh                      76       39        3\n",
      "       14  Jammu and Kashmir                   1013      513       11\n",
      "       15  Jharkhand                            203       87        3\n",
      "       16  Karnataka                           1056      480       36\n",
      "       17  Kerala                               576      492        4\n",
      "       18  Ladakh                                43       22        0\n",
      "       19  Madhya Pradesh                      4595     2283      239\n",
      "       20  Maharashtra                        29100     6564     1068\n",
      "       21  Manipur                                3        2        0\n",
      "       22  Meghalaya                             13       11        1\n",
      "       23  Mizoram                                1        1        0\n",
      "       24  Odisha                               672      166        3\n",
      "       25  Puducherry                            13        9        1\n",
      "       26  Punjab                              1935      305       32\n",
      "       27  Rajasthan                           4727     2677      125\n",
      "       28  Tamil Nadu                         10108     2599       71\n",
      "       29  Telengana                           1454      959       34\n",
      "       30  Tripura                              156       42        0\n",
      "       31  Uttarakhand                           82       51        1\n",
      "       32  Uttar Pradesh                       4057     2165       95\n",
      "       33  West Bengal                         2461      829      225\n"
     ]
    }
   ],
   "source": [
    "objects = [] \n",
    "for row in stats : \n",
    "    objects.append(row[1]) \n",
    "\n",
    "y_pos = np.arange(len(objects)) \n",
    "\n",
    "performance = [] \n",
    "for row in stats : \n",
    "    performance.append(int(row[3]) + int(row[3])) \n",
    "\n",
    "table = tabulate(stats, headers=SHORT_HEADERS) \n",
    "print(table) "
   ]
  },
  {
   "cell_type": "code",
   "execution_count": 4,
   "metadata": {},
   "outputs": [
    {
     "data": {
      "image/png": "[encoded data removed]",
      "text/plain": [
       "<Figure size 432x288 with 1 Axes>"
      ]
     },
     "metadata": {
      "needs_background": "light"
     },
     "output_type": "display_data"
    }
   ],
   "source": [
    "plt.barh(y_pos, performance, align='center', alpha=0.5, \n",
    "                color=(234/256.0, 128/256.0, 252/256.0), \n",
    "                edgecolor=(106/256.0, 27/256.0, 154/256.0)) \n",
    "\n",
    "plt.yticks(y_pos, objects) \n",
    "plt.xlim(1,80) \n",
    "plt.xlabel('Number of Cases') \n",
    "plt.title('Corona Virus Cases') \n",
    "plt.show() \n"
   ]
  }
 ],
 "metadata": {
  "kernelspec": {
   "display_name": "Python 3",
   "language": "python",
   "name": "python3"
  },
  "language_info": {
   "codemirror_mode": {
    "name": "ipython",
    "version": 3
   },
   "file_extension": ".py",
   "mimetype": "text/x-python",
   "name": "python",
   "nbconvert_exporter": "python",
   "pygments_lexer": "ipython3",
   "version": "3.7.4"
  }
 },
 "nbformat": 4,
 "nbformat_minor": 2
}
